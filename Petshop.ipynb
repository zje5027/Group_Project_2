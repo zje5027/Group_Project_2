{
  "nbformat": 4,
  "nbformat_minor": 0,
  "metadata": {
    "colab": {
      "name": "Petshop.ipynb",
      "provenance": [],
      "authorship_tag": "ABX9TyPIVdkOqmhNYCF2gZVedIYM",
      "include_colab_link": true
    },
    "kernelspec": {
      "name": "python3",
      "display_name": "Python 3"
    }
  },
  "cells": [
    {
      "cell_type": "markdown",
      "metadata": {
        "id": "view-in-github",
        "colab_type": "text"
      },
      "source": [
        "<a href=\"https://colab.research.google.com/github/zje5027/Group_Project_2/blob/main/Petshop.ipynb\" target=\"_parent\"><img src=\"https://colab.research.google.com/assets/colab-badge.svg\" alt=\"Open In Colab\"/></a>"
      ]
    },
    {
      "cell_type": "code",
      "metadata": {
        "id": "GTt3maR_3EVc"
      },
      "source": [
        ""
      ],
      "execution_count": null,
      "outputs": []
    },
    {
      "cell_type": "markdown",
      "metadata": {
        "id": "9nVVAzsZ3XXZ"
      },
      "source": [
        "# ER diagram Pet Shop\n"
      ]
    },
    {
      "cell_type": "markdown",
      "metadata": {
        "id": "bTfBIQV18fuN"
      },
      "source": [
        "For my ER diagram I Tried to make everything that the customer interacts with on the left and everything the business interacts with on the right. The six entities I chose are : customer , rewards program, animals , enclosures, food, and transactions. The way I work though it in my head is as follows, a customer in order to be considered a customer must initiate a transaction. A certain number of Animals or Food are bought through the transaction which was initiated by the customer. If the customer has a rewards program, then a discount is assigned to the transaction that is initiated by the rewards member. On the business enclosures are assigned to animals and food is assigned to them as well."
      ]
    },
    {
      "cell_type": "markdown",
      "metadata": {
        "id": "KQ67sZuuDqDu"
      },
      "source": [
        "![Photo of petshop ER diagram](https://nbviewer.jupyter.org/github/zje5027/PETSHOP-ER-lab-2/blob/main/2020-10-01.png)"
      ]
    }
  ]
}